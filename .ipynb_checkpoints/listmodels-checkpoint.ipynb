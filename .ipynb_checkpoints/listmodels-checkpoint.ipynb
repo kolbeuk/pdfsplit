{
 "cells": [
  {
   "cell_type": "code",
   "execution_count": 5,
   "id": "72de083b-8a5f-430d-907b-1ba62c08892e",
   "metadata": {},
   "outputs": [],
   "source": [
    "from openai import OpenAI\n",
    "client = OpenAI()"
   ]
  },
  {
   "cell_type": "code",
   "execution_count": 7,
   "id": "c7a32771-6b1d-4ed6-921d-b124fc7fe419",
   "metadata": {},
   "outputs": [
    {
     "name": "stdout",
     "output_type": "stream",
     "text": [
      "gpt-4\n",
      "gpt-3.5-turbo-16k\n",
      "gpt-3.5-turbo-1106\n",
      "gpt-3.5-turbo-instruct\n",
      "gpt-3.5-turbo-instruct-0914\n",
      "gpt-4-vision-preview\n",
      "gpt-4-0314\n",
      "gpt-4-0613\n",
      "gpt-3.5-turbo-16k-0613\n",
      "gpt-3.5-turbo-0613\n",
      "gpt-4-1106-preview\n",
      "gpt-3.5-turbo-0301\n",
      "gpt-3.5-turbo\n"
     ]
    }
   ],
   "source": [
    "# Retrieve the list of all models\n",
    "all_models = client.models.list()\n",
    "\n",
    "gpt4_models = []\n",
    "\n",
    "# Iterate through the models and filter for 'GPT-4'\n",
    "for model in all_models:\n",
    "    if 'gpt-4' in model.id:\n",
    "        gpt4_models.append(model.id)\n",
    "\n",
    "# Print the list of GPT-4 models\n",
    "for model_id in gpt4_models:\n",
    "    print(model_id)"
   ]
  },
  {
   "cell_type": "code",
   "execution_count": null,
   "id": "4015b2fc-0773-42b0-9935-0c0bce939f1b",
   "metadata": {},
   "outputs": [],
   "source": []
  }
 ],
 "metadata": {
  "kernelspec": {
   "display_name": "Python 3 (ipykernel)",
   "language": "python",
   "name": "python3"
  },
  "language_info": {
   "codemirror_mode": {
    "name": "ipython",
    "version": 3
   },
   "file_extension": ".py",
   "mimetype": "text/x-python",
   "name": "python",
   "nbconvert_exporter": "python",
   "pygments_lexer": "ipython3",
   "version": "3.11.6"
  }
 },
 "nbformat": 4,
 "nbformat_minor": 5
}
