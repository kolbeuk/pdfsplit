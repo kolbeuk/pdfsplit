{
 "cells": [
  {
   "cell_type": "code",
   "execution_count": 1,
   "id": "ef80fba9-4998-4408-ac39-417f2d70098c",
   "metadata": {},
   "outputs": [],
   "source": [
    "import PyPDF2"
   ]
  },
  {
   "cell_type": "code",
   "execution_count": 6,
   "id": "c459bf08-1549-49fc-9b46-a6599f1c807d",
   "metadata": {},
   "outputs": [],
   "source": [
    "def split_pdf_into_three(file_path):\n",
    "    # Open the PDF file\n",
    "    with open(file_path, 'rb') as file:\n",
    "        reader = PyPDF2.PdfReader(file)\n",
    "        total_pages = len(reader.pages)\n",
    "\n",
    "        # Calculate the number of pages in each part\n",
    "        part_size = total_pages // 4\n",
    "        extra = total_pages % 4\n",
    "\n",
    "        # Define start and end pages for each part\n",
    "        parts = [(0, part_size), \n",
    "                 (part_size, 2 * part_size), \n",
    "                 (2 * part_size, 3 * part_size), \n",
    "                 (3 * part_size, total_pages)]\n",
    "        \n",
    "        # Adjust for any extra pages\n",
    "        for i in range(extra):\n",
    "            parts[i] = (parts[i][0], parts[i][1] + 1)\n",
    "\n",
    "        # Create each part\n",
    "        for i, (start, end) in enumerate(parts):\n",
    "            writer = PyPDF2.PdfWriter()\n",
    "            for page in range(start, end):\n",
    "                writer.add_page(reader.pages[page])\n",
    "\n",
    "            with open(f'dspart_{i+1}.pdf', 'wb') as output_file:\n",
    "                writer.write(output_file)"
   ]
  },
  {
   "cell_type": "code",
   "execution_count": 7,
   "id": "167b85f5-cbe5-4e74-9639-3d119db1bd6c",
   "metadata": {},
   "outputs": [],
   "source": [
    "# Usage\n",
    "split_pdf_into_three('book_Senge 1990 livro the fifth discipline.pdf')"
   ]
  },
  {
   "cell_type": "code",
   "execution_count": null,
   "id": "101981ac-6b80-415b-bdcc-efb176bc10c1",
   "metadata": {},
   "outputs": [],
   "source": []
  },
  {
   "cell_type": "code",
   "execution_count": null,
   "id": "d2c8efc7-26a0-4f41-b8d1-8f0f5bc9aaf4",
   "metadata": {},
   "outputs": [],
   "source": []
  }
 ],
 "metadata": {
  "kernelspec": {
   "display_name": "Python 3 (ipykernel)",
   "language": "python",
   "name": "python3"
  },
  "language_info": {
   "codemirror_mode": {
    "name": "ipython",
    "version": 3
   },
   "file_extension": ".py",
   "mimetype": "text/x-python",
   "name": "python",
   "nbconvert_exporter": "python",
   "pygments_lexer": "ipython3",
   "version": "3.11.6"
  }
 },
 "nbformat": 4,
 "nbformat_minor": 5
}
